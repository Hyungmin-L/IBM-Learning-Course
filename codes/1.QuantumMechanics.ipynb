{
 "cells": [
  {
   "cell_type": "markdown",
   "id": "4019981e",
   "metadata": {},
   "source": [
    "### 1. Quantum coin"
   ]
  },
  {
   "cell_type": "code",
   "execution_count": 1,
   "id": "0ec61f7a",
   "metadata": {},
   "outputs": [
    {
     "data": {
      "image/png": "[encoded data removed]",
      "text/plain": [
       "<Figure size 640x480 with 1 Axes>"
      ]
     },
     "metadata": {},
     "output_type": "display_data"
    }
   ],
   "source": [
    "# import necessary packages:\n",
    "import numpy as np\n",
    "import matplotlib.pyplot as plt\n",
    "import random\n",
    " \n",
    " \n",
    "nflips = 1000\n",
    "fliplist = [random.randint(0, 1) for f in range(nflips)]\n",
    " \n",
    " \n",
    "# bar plots using get_gaussian_probs function\n",
    "plt.hist(fliplist)\n",
    "plt.show()"
   ]
  },
  {
   "cell_type": "code",
   "execution_count": 2,
   "id": "cdf429da",
   "metadata": {},
   "outputs": [
    {
     "data": {
      "image/png": "[encoded data removed]",
      "text/plain": [
       "<Figure size 413.165x200.667 with 1 Axes>"
      ]
     },
     "execution_count": 2,
     "metadata": {},
     "output_type": "execute_result"
    }
   ],
   "source": [
    "from qiskit import QuantumCircuit\n",
    " \n",
    "qcoin = QuantumCircuit(1)\n",
    "qcoin.h(0)\n",
    "qcoin.measure_all()\n",
    " \n",
    "qcoin.draw(\"mpl\")"
   ]
  },
  {
   "cell_type": "code",
   "execution_count": 3,
   "id": "a8c65c84",
   "metadata": {},
   "outputs": [],
   "source": [
    "# Load the Qiskit Runtime service\n",
    "from qiskit_ibm_runtime import QiskitRuntimeService\n",
    " \n",
    "service = QiskitRuntimeService()"
   ]
  },
  {
   "cell_type": "code",
   "execution_count": 4,
   "id": "ed1c5a0a",
   "metadata": {},
   "outputs": [
    {
     "name": "stdout",
     "output_type": "stream",
     "text": [
      "ibm_fez\n"
     ]
    }
   ],
   "source": [
    "# Load the Runtime primitive and session\n",
    "from qiskit_ibm_runtime import (\n",
    "    SamplerV2 as Sampler,\n",
    "    EstimatorV2 as Estimator,\n",
    ")\n",
    " \n",
    "# Use the least busy backend\n",
    "backend = service.least_busy()\n",
    "print(backend.name)"
   ]
  },
  {
   "cell_type": "code",
   "execution_count": 9,
   "id": "64c21dbc",
   "metadata": {},
   "outputs": [],
   "source": [
    "# Use a local simulator\n",
    " \n",
    "from qiskit_aer import AerSimulator\n",
    " \n",
    "# Generate a simulator that mimics the real quantum system\n",
    " \n",
    "backend_sim = AerSimulator.from_backend(backend)\n",
    " \n",
    "# Import an estimator, this time from qiskit (we will import from Runtime for real hardware)\n",
    " \n",
    "from qiskit.primitives import BackendSamplerV2\n",
    "sampler_sim = BackendSamplerV2(backend = backend_sim)\n",
    "from qiskit.primitives import BackendEstimatorV2\n",
    "estimator_sim = BackendEstimatorV2(backend = backend_sim)"
   ]
  },
  {
   "cell_type": "code",
   "execution_count": 6,
   "id": "9d2747e2",
   "metadata": {},
   "outputs": [],
   "source": [
    "## Transpile\n",
    "from qiskit.transpiler.preset_passmanagers import generate_preset_pass_manager\n",
    " \n",
    "target = backend.target\n",
    "pm = generate_preset_pass_manager(target=target, optimization_level=3)\n",
    " \n",
    "qc_isa = pm.run(qcoin)"
   ]
  },
  {
   "cell_type": "code",
   "execution_count": 11,
   "id": "029008c3",
   "metadata": {},
   "outputs": [],
   "source": [
    "## Execute\n",
    " \n",
    "# On real hardware:\n",
    "# sampler = Sampler(mode=backend)\n",
    "# pubs = [qc_isa]\n",
    "# job = sampler.run(pubs, shots=1000)\n",
    "# res = job.result()\n",
    " \n",
    "# counts = res[0].data.meas.get_counts()\n",
    " \n",
    "# or with Aer simulator with noise model from real backend\n",
    "job = sampler_sim.run([qc_isa])\n",
    "counts=job.result()[0].data.meas.get_counts()"
   ]
  },
  {
   "cell_type": "code",
   "execution_count": 12,
   "id": "74e64f71",
   "metadata": {},
   "outputs": [
    {
     "data": {
      "image/png": "[encoded data removed]",
      "text/plain": [
       "<Figure size 640x480 with 1 Axes>"
      ]
     },
     "execution_count": 12,
     "metadata": {},
     "output_type": "execute_result"
    }
   ],
   "source": [
    "## Analysis\n",
    "from qiskit.visualization import plot_histogram\n",
    " \n",
    "plot_histogram(counts)"
   ]
  },
  {
   "cell_type": "code",
   "execution_count": 13,
   "id": "1adf2c63",
   "metadata": {},
   "outputs": [
    {
     "data": {
      "text/plain": [
       "<qiskit.circuit.instructionset.InstructionSet at 0x75b6f4164c70>"
      ]
     },
     "execution_count": 13,
     "metadata": {},
     "output_type": "execute_result"
    }
   ],
   "source": [
    "from qiskit.quantum_info import Pauli\n",
    " \n",
    "qcoin = QuantumCircuit(1)\n",
    "qcoin.h(0)\n",
    " \n",
    "# for Estimator, we do not apply the measurement to the circuit"
   ]
  },
  {
   "cell_type": "code",
   "execution_count": 14,
   "id": "ede0ad89",
   "metadata": {},
   "outputs": [],
   "source": [
    "## Transpile\n",
    "from qiskit.transpiler.preset_passmanagers import generate_preset_pass_manager\n",
    " \n",
    "target = backend.target\n",
    "pm = generate_preset_pass_manager(target=target, optimization_level=3)\n",
    " \n",
    "obs = Pauli(\"Z\")\n",
    " \n",
    "qc_isa = pm.run(qcoin)\n",
    "obs_isa = obs.apply_layout(layout=qc_isa.layout)"
   ]
  },
  {
   "cell_type": "code",
   "execution_count": 16,
   "id": "05307bcc",
   "metadata": {},
   "outputs": [
    {
     "name": "stdout",
     "output_type": "stream",
     "text": [
      "0.00439453125\n"
     ]
    }
   ],
   "source": [
    "## Execute\n",
    " \n",
    "# On real hardware:\n",
    "estimator = Estimator(mode=backend_sim)\n",
    "pubs = [(qc_isa, obs_isa)]\n",
    "job = estimator.run([[qc_isa, obs_isa]])\n",
    "res = job.result()\n",
    " \n",
    "print(res[0].data.evs)"
   ]
  },
  {
   "cell_type": "code",
   "execution_count": null,
   "id": "4f97686a",
   "metadata": {},
   "outputs": [],
   "source": []
  }
 ],
 "metadata": {
  "kernelspec": {
   "display_name": "qiskit2025",
   "language": "python",
   "name": "python3"
  },
  "language_info": {
   "codemirror_mode": {
    "name": "ipython",
    "version": 3
   },
   "file_extension": ".py",
   "mimetype": "text/x-python",
   "name": "python",
   "nbconvert_exporter": "python",
   "pygments_lexer": "ipython3",
   "version": "3.13.5"
  }
 },
 "nbformat": 4,
 "nbformat_minor": 5
}
